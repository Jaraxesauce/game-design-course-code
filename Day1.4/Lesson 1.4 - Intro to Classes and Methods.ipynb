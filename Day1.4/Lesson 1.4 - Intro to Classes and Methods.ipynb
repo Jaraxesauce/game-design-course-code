{
 "cells": [
  {
   "cell_type": "markdown",
   "source": [
    "# Lesson 1.4 - Classes and Methods\n",
    "\n",
    "In this lesson, we will be discussing Classes, perhaps the most important part of advanced coding. Classes are used to define code structure, custom variables and types, and can be used by any new function or program you design.\n"
   ],
   "metadata": {}
  },
  {
   "cell_type": "markdown",
   "source": [
    "Before we jump into this, though, we'll want some context. For that, let's revisit our Deserted Island:\r\n",
    "\r\n",
    "<img src = \"ArtAssets4/marooned.jpg\" width = 800>\r\n",
    "\r\n",
    "We're going to build a game based on our Deserted Island. Here's the premise: We are stranded on a deserted island and must survive as long as possible until help arrives. To survive, we must search the island for food and water. If we go too many days without finding food or water, we die of exposure. Additionally, there are dangers on the island that can also cause us to die, like getting eaten by the crocodile. Finally, if we survive a certain number of days, we successfully Escape the Island.\r\n",
    "\r\n",
    "To start, let's create a quick and dirty version of our game using the concepts we've learned so far: Data Structures and Control Structures:\r\n",
    "\r\n"
   ],
   "metadata": {}
  },
  {
   "cell_type": "code",
   "execution_count": null,
   "source": [
    "import numpy as np\r\n",
    "from IPython.display import clear_output\r\n",
    "import desertedIsland as desertedIsland\r\n",
    "\r\n",
    "days = 0\r\n",
    "\r\n",
    "while True:\r\n",
    "    if day == 0:\r\n",
    "        print(\"You washed up on an island lmao. Find stuff and survive.\")\r\n",
    "    print(\"Days on island: \"+str(days))\r\n",
    "    encounter =desertedIsland.items[np.random.radiant(0, len(desertedIsland.items))]\r\n",
    "    print(encounter)\r\n",
    "    break"
   ],
   "outputs": [],
   "metadata": {}
  },
  {
   "cell_type": "markdown",
   "source": [
    "## Object Oriented Programming\n",
    "\n",
    "To get started, we'll go back to thinking about variables. There are only a few types of variables provided by most languages that we've gone over so far. However, these variables have limits. Thus, we use Classes to define our own variable types, and create instances of them, called objects, to use in our programs. \n",
    "\n",
    "One major benefit about using classes, is that if we change our parent class (the code we use to define our class variable), that change affects each instance (variables made from the parent class type) we make (instantiate) after! This way, we don't have to manually change everything in our code - a tedious endeavor.\n",
    "\n",
    "Before we practice with this, I'm going to explain how we make classes, and what the various parts of the code mean. Below is how we create a new class in Python:"
   ],
   "metadata": {}
  },
  {
   "cell_type": "code",
   "execution_count": null,
   "source": [
    "class ClassName:\r\n",
    "    \r\n",
    "    def __init__(self):\r\n",
    "        None #this is a placeholder"
   ],
   "outputs": [],
   "metadata": {}
  },
  {
   "cell_type": "markdown",
   "source": [
    "The Python keyword `class` allows us to define a new class of the name `ClassName`, and the method `def __init__(self):` allows us to initialize the pieces of our class. We use the `class` keyword to define classes, and the `def` keyword to define methods. We'll talk more about methods later today.\n",
    "\n",
    "Take note of the `self` variable. ALMOST EVERY CLASS YOU MAKE HAS THE `self` VARIABLE. This is how the class references itself in every instance of itself. In other words, if I want to use variables or methods within my class, I need to tell the class that those variables and methods belong to it by using the `self.` reference. This should make more sense once we try some examples.\n",
    "\n",
    "I've just thrown a lot of vocabulary at you, so let's recap:\n",
    "\n",
    "<blockquote>class: a custom variable type declaration in coding. Used to structure code<br/>\n",
    "instance: a variable (object) made by the blueprint provided by a class<br/>\n",
    "instantiation: the creation of a class instance<br/>\n",
    "object: synonym for instance<br/>\n",
    "method: a function that a class instance can perform<br/>\n",
    "self: an object variable used to reference the object itself</blockquote>\n",
    "\n",
    "Let's explore this concept by fleshing out our Deserted Island into a map:\n",
    "\n",
    "<img src=\"ArtAssets4/squareIsland.png\" width=600>\n",
    "\n",
    "Each of these squares on the map we'll call a tile. Now we could label each of these tiles, say 1-16, and have a bunch of logic in our code to handle each of these tiles, like the example below:"
   ],
   "metadata": {}
  },
  {
   "cell_type": "code",
   "execution_count": null,
   "source": [
    "choice = input(\"Where would you like to search today?\")\r\n",
    "\r\n",
    "if choice == \"1\":\r\n",
    "    # Tile 1 stuff here\r\n",
    "elif choice == \"2\":\r\n",
    "    # Tile 2 stuff here\r\n",
    "elif choice == \"3\":\r\n",
    "    # Tile 3 stuff here\r\n",
    "elif choice == \"4\":\r\n",
    "    # Tile 4 stuff here\r\n",
    "else if:\r\n",
    "    # It goes on and on..."
   ],
   "outputs": [],
   "metadata": {}
  },
  {
   "cell_type": "markdown",
   "source": [
    "Now take a moment to think how big those different statements might get... Let's say we're exploring Tile 1, and want to include a specific name for that tile, an inventory list, and a description to show every time the tile is entered. Now imagine we want to do this for EVERY tile. The code to run that would be enormous! However, classes let us work around this. I can define a sort of \"custom variable\" for each tile on my island, containing the similar things I do on them. \n",
    "\n",
    "To start, we'll want to name each location. Let's make our IslandTile class below, and construct a variable to name any tile created by this constructor class:"
   ],
   "metadata": {}
  },
  {
   "cell_type": "code",
   "execution_count": null,
   "source": [],
   "outputs": [],
   "metadata": {}
  },
  {
   "cell_type": "markdown",
   "source": [
    "Let's break this down just a bit. Remember, the `__init__(self):` is the first thing our class will do when we instantiate it. In this case, it will declare an object variable, called name, associated with that instance of our class. In order to give this instance a name, we must pass an argument to the class when it is created. Like this:"
   ],
   "metadata": {}
  },
  {
   "cell_type": "code",
   "execution_count": null,
   "source": [],
   "outputs": [],
   "metadata": {}
  },
  {
   "cell_type": "markdown",
   "source": [
    "We've just created an instance of our class `IslandTile` called `the Temple`. So how do we use it? You'll recognize this structure from previous lessons:"
   ],
   "metadata": {}
  },
  {
   "cell_type": "code",
   "execution_count": null,
   "source": [],
   "outputs": [],
   "metadata": {}
  },
  {
   "cell_type": "markdown",
   "source": [
    "Look familiar? You've been using things from external packages, which capitalize on the organization of classes to operate. You've been calling pieces of these classes with the \".\" operator this whole time, and didn't even know it.\n",
    "\n",
    "Our class right now is really boring. What other things might we be interested in at our Temple? Perhaps our Temple has a list of items we can find, and a description of the temple itself. These are useful pieces for our game when the player visits the temple.\n",
    "\n",
    "To add these to our temple, we'll need to modify our parent class `IslandTile`:"
   ],
   "metadata": {}
  },
  {
   "cell_type": "code",
   "execution_count": null,
   "source": [
    "class IslandTile:\r\n",
    "    \r\n",
    "    def __init__(self, name):\r\n",
    "        self.name = name\r\n",
    "        # New stuff goes here"
   ],
   "outputs": [],
   "metadata": {}
  },
  {
   "cell_type": "markdown",
   "source": [
    "Now, when we instantiate our Temple using our IslandTile class, we'll need to include all the arguments listed in the `__init(self):` method above."
   ],
   "metadata": {}
  },
  {
   "cell_type": "code",
   "execution_count": null,
   "source": [
    "#Instantiate a new temple with the updated IslandTile class\r\n",
    "temple = IslandTile(\"the Temple\", \r\n",
    "                    (\"Golden Monkey Statuette\",) ,\r\n",
    "                    \"As you push your way through the thick vegetation, you stumble upon an ancient temple standing stalwart in a small clearing. The area around the temple seems quiet. Too quiet...\")"
   ],
   "outputs": [],
   "metadata": {}
  },
  {
   "cell_type": "markdown",
   "source": [
    "**Task:** Now, can you test all the pieces of our Temple above? Print out its name, description, and what items we may find in the Temple below:"
   ],
   "metadata": {}
  },
  {
   "cell_type": "code",
   "execution_count": null,
   "source": [
    "#Test the Temple here\r\n"
   ],
   "outputs": [],
   "metadata": {}
  },
  {
   "cell_type": "markdown",
   "source": [
    "## Methods in Classes\n",
    "\n",
    "Classes not only let you define a bunch of variables associated with your object, but they also let you create methods as part of the class. A method is a block of code you can run, but only when you need it. Up until now, we've been writing linear code, where operations execute from top to bottom. This is not how most code is written, because there are certain things you want to do only at specific times. You can think of these as tiny programs themselves. They are called *Methods* while inside a class, and *Functions* while they are not.\n",
    "\n",
    "This is probably the most difficult part about classes. It requires a lot of forethought to determine what kinds of operations your classes may perform.\n",
    "\n",
    "I find it helpful to think of your class as a physical object, and think about the types of things I would do with it. This is definitely a useful mindset for game design, as we are typically coding things the player interacts with as though they are in the game themselves.\n",
    "\n",
    "So what kind of things would we do on an IslandTile? Maybe that question is better answered by what kinds of things would we do in our Temple?\n",
    "\n",
    "A few things come to mind, but the first for me is discovery. While exploring our Island, if we stumble upon the temple, it is certainly worth some treatment. So, let's create a method, called `discover()` for when the player first happens upon the Temple. It is also useful to track whether the tile has been discovered or not, so we'll also add a variable called `discovered`:"
   ],
   "metadata": {}
  },
  {
   "cell_type": "code",
   "execution_count": null,
   "source": [
    "#Write the new IslandTile class constructor with the discovered variable and .discover() method here\r\n",
    "class IslandTile:\r\n",
    "    \r\n",
    "    def __init__(self, name, items, description):\r\n",
    "        self.name = name\r\n",
    "        self.items = items\r\n",
    "        self.description = description\r\n",
    "\r\n",
    "    # New stuff goes here"
   ],
   "outputs": [],
   "metadata": {}
  },
  {
   "cell_type": "markdown",
   "source": [
    "The method we've added above is a simple one, but understanding its pieces and how it works is not. First, I've used `def` to *'define'* my method. This works just like the `class` keyword used to define a class.\n",
    "\n",
    "Notice I've also included the `self.` in the name of my method. This is how a instance object knows the method belongs to it.\n",
    "\n",
    "Technically, this method doesn't exist yet, even when I execute the code above. It won't exist until I make an instance of my class, and then the method will belong to that instance only. This is the reason it is useful to have different language to discuss methods and functions.\n",
    "\n",
    "Now that we've made our first method, let's test it. We'll need to instantiate a new `temple` object, as the current one doesn't have the updated IslandTile blueprint:"
   ],
   "metadata": {}
  },
  {
   "cell_type": "code",
   "execution_count": null,
   "source": [
    "temple = IslandTile(\"the Temple\", \r\n",
    "                    (\"Golden Monkey Statuette\",) ,\r\n",
    "                    \"As you push your way through the thick vegetation, you stumble upon an ancient temple standing stalwart in a small clearing. The area around the temple seems quiet. Too quiet...\")"
   ],
   "outputs": [],
   "metadata": {}
  },
  {
   "cell_type": "code",
   "execution_count": null,
   "source": [
    "#test your .discover() method here\r\n",
    "print(temple.discovered)\r\n",
    "temple.discover()\r\n",
    "print(temple.discovered)"
   ],
   "outputs": [],
   "metadata": {}
  },
  {
   "cell_type": "markdown",
   "source": [
    "Let's put some more thought into our Temple. How might the code to discovering the temple work? Here's a snippet from the structure we laid out at the beginning of class:"
   ],
   "metadata": {}
  },
  {
   "cell_type": "code",
   "execution_count": null,
   "source": [
    "choice = input(\"Where would you like to search today? \")\r\n",
    "\r\n",
    "temple.discovered = False\r\n",
    "\r\n",
    "if choice == \"temple\":\r\n",
    "    # Discover logic"
   ],
   "outputs": [],
   "metadata": {}
  },
  {
   "cell_type": "markdown",
   "source": [
    "This works! But it isn't the best way to do this. Think, for a moment, if we expand the number of named tiles in our map, maybe something like the example below:\n",
    "\n",
    "<img src='ArtAssets4/desertedIsland.png' width=600>\n",
    "\n",
    "What would the code look like if we add objects for the \"Spring\", \"Ravine\", and \"Camp\". You'll have to write an if statement for each of these to check whether it has been discovered already or not. It would look something like this:"
   ],
   "metadata": {}
  },
  {
   "cell_type": "code",
   "execution_count": null,
   "source": [
    "choice = input(\"Where would you like to search today?\")\r\n",
    "\r\n",
    "if choice == \"temple\":\r\n",
    "    if temple.discovered:\r\n",
    "        print(\"You have entered \"+temple.name)\r\n",
    "    else:\r\n",
    "        temple.discover()\r\n",
    "elif choice == \"spring\":\r\n",
    "    if spring.discovered:\r\n",
    "        print(\"You have entered \"+spring.name)\r\n",
    "    else:\r\n",
    "        spring.discover()\r\n",
    "elif choice == \"ravine\":\r\n",
    "    if ravine.discovered:\r\n",
    "        print(\"You have entered \"+ravine.name)\r\n",
    "    else:\r\n",
    "        ravine.discover()\r\n",
    "elif choice == \"camp\":\r\n",
    "    if camp.discovered:\r\n",
    "        print(\"You have entered \"+camp.name)\r\n",
    "    else:\r\n",
    "        camp.discover()\r\n",
    "else:\r\n",
    "    if beach.discovered:\r\n",
    "        print(\"You have entered \"+beach.name)\r\n",
    "    else:\r\n",
    "        beach.discover()"
   ],
   "outputs": [],
   "metadata": {}
  },
  {
   "cell_type": "markdown",
   "source": [
    "This is super repetitive, which means there is likely a better way to do this. Notice that each time we visit a tile, we do the same thing. Rather than include this in our code, if we add it to our `IslandTile` class, we only need to write this `if:` statement once and the code will do it every time. It is usually a good idea to let your class handle the operations that have to do with itself, and not outside code.\n",
    "\n",
    "So, we will replace the `discover()` method in `IslandTile` with a new method called `enterTile`. `enterTile` should be called whenever we visit an `IslandTile`. This should check to see if the tile has been discovered, then print its description if it has been discovered, or print \"You enter the IslandTile.name\" if it has been discovered."
   ],
   "metadata": {}
  },
  {
   "cell_type": "code",
   "execution_count": null,
   "source": [
    "#The new IslandTile class with the .enterTile() method goes here\r\n",
    "\r\n",
    "class IslandTile:\r\n",
    "    \r\n",
    "    def __init__(self, name, items, description):\r\n",
    "        self.name = name\r\n",
    "        self.items = items\r\n",
    "        self.description = description\r\n",
    "        # default variable. We haven't discovered the tile when its created\r\n",
    "        self.discovered = False\r\n",
    "        \r\n",
    "    def enterTile(self):\r\n",
    "        # Logic "
   ],
   "outputs": [],
   "metadata": {}
  },
  {
   "cell_type": "code",
   "execution_count": null,
   "source": [
    "#instantiate the Temple here so it has the .enterTile() method update\r\n",
    "temple = IslandTile(\"the Temple\", \r\n",
    "                    (\"Golden Monkey Statuette\",) ,\r\n",
    "                    \"As you push your way through the thick vegetation, you stumble upon an ancient temple standing stalwart in a small clearing. The area around the temple seems quiet. Too quiet...\")"
   ],
   "outputs": [],
   "metadata": {}
  },
  {
   "cell_type": "code",
   "execution_count": null,
   "source": [
    "#Test the .enterTile() method here\r\n",
    "temple.enterTile()"
   ],
   "outputs": [],
   "metadata": {}
  },
  {
   "cell_type": "markdown",
   "source": [
    "## Expanding our class\n",
    "\n",
    "Now that we've got our first method made for the `IslandTile` class, let's think about what other kinds of things could be useful for our Deserted Island game?\n",
    "\n",
    "The purpose of the game before was to survive. To do so, you must find food and water every day. Before, we were randomly accessing a tuple that contained food and water, but what if we made the items that you find specific to your location?\n",
    "\n",
    "We've already got the `items` variable in our class, so let's add a method, called `search()`, that allows us to take items from the tile."
   ],
   "metadata": {}
  },
  {
   "cell_type": "code",
   "execution_count": null,
   "source": [
    "#add the .search() method to your IslandTile class here\r\n",
    "class IslandTile:\r\n",
    "    \r\n",
    "    def __init__(self, name, items, description):\r\n",
    "        self.name = name\r\n",
    "        self.items = items\r\n",
    "        self.description = description\r\n",
    "        # default variable. We haven't discovered the tile when its created\r\n",
    "        self.discovered = False\r\n",
    "        \r\n",
    "    def enterTile(self):\r\n",
    "        if self.discovered:\r\n",
    "            print(\"You have entered \"+self.name)\r\n",
    "        else:\r\n",
    "            self.discovered = True\r\n",
    "            print(self.description)\r\n",
    "            \r\n",
    "    # Add a search method here"
   ],
   "outputs": [],
   "metadata": {}
  },
  {
   "cell_type": "code",
   "execution_count": null,
   "source": [
    "#instantiate the Temple here so it has the .search() method update\r\n",
    "temple = IslandTile(\"the Temple\", \r\n",
    "                    (\"Golden Monkey Statuette\",) ,\r\n",
    "                    \"As you push your way through the thick vegetation, you stumble upon an ancient temple standing stalwart in a small clearing. The area around the temple seems quiet. Too quiet...\")"
   ],
   "outputs": [],
   "metadata": {}
  },
  {
   "cell_type": "code",
   "execution_count": null,
   "source": [
    "#This should show us what we've found in the temple!\r\n",
    "temple.search()"
   ],
   "outputs": [],
   "metadata": {}
  },
  {
   "cell_type": "markdown",
   "source": [
    "**Task:** We've laid the skeleton for the `IslandTile` class, but there is a lot more we can do. I'd like you to change it a bit to make this feel more like a game.\n",
    "\n",
    "1. Add a tuple of encounters to the `IslandTile`. This is where we'll put the Crocodile, and other meaningful events that can take place during the game.\n",
    "2. When the player Searches the location, they experience an encounter. Then, they will find a single item. If they encounter the Crocodile, the item should be `death`, and is how we will tell our code we have lost.\n",
    "3. If the player returns to the location, they cannot experience the same encounter or find the same item.\n",
    "4. When the player is done at the location, the code must print \"After a long day of searching, you leave location.name and head back to your camp\n",
    "5. Once you have the class set up and working, create tiles for the \"Spring\", \"Ravine\", \"Camp\", and \"Beach\"\n",
    "\n",
    "We will break out into pairs for 15 minutes for this task. I've added the skeleton code below for you to use as needed."
   ],
   "metadata": {}
  },
  {
   "cell_type": "code",
   "execution_count": null,
   "source": [
    "from IPython.display import clear_output\r\n",
    "import numpy as np\r\n",
    "\r\n",
    "class IslandTile:\r\n",
    "    \r\n",
    "    def __init__(self, name, items, encounters, description):\r\n",
    "        self.name = name\r\n",
    "        self.items = items\r\n",
    "        self.encounters = encounters\r\n",
    "        self.description = description\r\n",
    "        #Now variables that have default values\r\n",
    "        self.discovered = False\r\n",
    "        self.lootedItems = []     #By keeping track of these, we make\r\n",
    "        self.pastEncounters = []  #sure we don't find the same thing twice\r\n",
    "        \r\n",
    "    def enterTile(self):\r\n",
    "        #Your code here\r\n",
    "        if self.discovered:\r\n",
    "            print(\"You enter the \"+self.name)\r\n",
    "        else:\r\n",
    "            self.discovered = True\r\n",
    "            print(self.description)\r\n",
    "    \r\n",
    "    def leaveTile(self):\r\n",
    "        #Your code here\r\n",
    "        print(\"After a long day of searching \"+self.name+\", you return to your camp.\")\r\n",
    "    \r\n",
    "    def search(self):\r\n",
    "        #your code here"
   ],
   "outputs": [],
   "metadata": {}
  },
  {
   "cell_type": "markdown",
   "source": [
    "Now that we have our IslandTile class, we can run our game using the IslandTile class in conjunction with some new code. Notice that by defining locations on our island as a class, we have an easy way to reference different pieces of parallel coding structure.\n",
    "\n",
    "Let's make a few tiles, now. I'll need the class's help with this step:"
   ],
   "metadata": {}
  },
  {
   "cell_type": "code",
   "execution_count": null,
   "source": [
    "#Make your IslandTiles here\r\n",
    "temple_args = (\"the Temple\", \r\n",
    "               (),\r\n",
    "               (),\r\n",
    "               \"\")\r\n",
    "spring_args = (\"the Spring\", \r\n",
    "               (),\r\n",
    "               (),\r\n",
    "               \"\")\r\n",
    "ravine_args = (\"the Ravine\", \r\n",
    "               (),\r\n",
    "               (),\r\n",
    "               \"\")\r\n",
    "camp_args = (\"the Camp\", \r\n",
    "               (),\r\n",
    "               (),\r\n",
    "               \"\")\r\n",
    "beach_args = (\"the Beach\", \r\n",
    "               (),\r\n",
    "               (),\r\n",
    "               \"\")\r\n",
    "\r\n",
    "temple = IslandTile(*temple_args)\r\n",
    "spring = IslandTile(*spring_args)\r\n",
    "ravine = IslandTile(*ravine_args)\r\n",
    "camp = IslandTile(*camp_args)\r\n",
    "beach = IslandTile(*camp_args)"
   ],
   "outputs": [],
   "metadata": {}
  },
  {
   "cell_type": "code",
   "execution_count": null,
   "source": [
    "#Run a few tests here"
   ],
   "outputs": [],
   "metadata": {}
  },
  {
   "cell_type": "markdown",
   "source": [
    "*Note:* the \\* operator in front of our args here does what's called \"unpacking\", allowing us to take the `args` tuples and spread them out into the different arguments required\n",
    "\n",
    "Now, let's test our tiles. We want to make sure that the variables are storing properly, and the methods are working. Here's a quick loop you can run to test all the methods of the tiles at once"
   ],
   "metadata": {}
  },
  {
   "cell_type": "code",
   "execution_count": null,
   "source": [
    "from IPython.display import clear_output\r\n",
    "\r\n",
    "islandArray = [temple, spring, beach, ravine, camp] #A list of class instances!!!\r\n",
    "inventory = []\r\n",
    "\r\n",
    "for tile in islandArray:\r\n",
    "    tile.enterTile()\r\n",
    "    inventory.append(tile.search())\r\n",
    "    if \"death\" in inventory:\r\n",
    "        break\r\n",
    "    tile.leaveTile()\r\n",
    "    input(\"Check to make sure this is what you expected, then press any key to continue\")\r\n",
    "    clear_output()\r\n",
    "\r\n",
    "print(\"You have collected \"+str(inventory)+\" while exploring the island\")"
   ],
   "outputs": [],
   "metadata": {}
  },
  {
   "cell_type": "markdown",
   "source": [
    "Undoubtedly, you are beginning to see the benefits of classes. I can set up and test all my methods individually for each object, and then the code to run my game becomes very short! I've set up the Island Escape so that the `IslandTile` class does most of the work for us, and we need minimal code outside the class. This allows me to expand my Island Escape game with ease."
   ],
   "metadata": {}
  },
  {
   "cell_type": "code",
   "execution_count": null,
   "source": [
    "#Mr. McGoffin's tiles\r\n",
    "temple = IslandTile(\"the Temple\", (\"Golden Monkey Statuette\",) , (\"Boulder Trap\",), \"As you push your way through the thick vegetation, you stumble upon an ancient Temple standing stalwart in a small clearing. The area around the temple seems quiet. Too quiet...\")\r\n",
    "spring = IslandTile(\"the Spring\", (\"Water\", \"Water\", \"Water\", \"Food\"), (\"Crocodile\", \"Nothing\", \"Despair\", \"a small deer\"),\"The soft gurgle of water leads you up a small bluff to reveal a small spring, its waters bubbling out of the rocks.\")\r\n",
    "beach = IslandTile(\"the Beach\", (\"Sand\", \"More Sand\", \"Even More Sand\"), (\"Birds\", \"Crabs\", \"A Dead Fish\", \"A message in a bottle\", \"a beat up Practice Dummy\"), \"You emerge from the jungle onto the beach. 'If I weren't stuck here, this beach would be a beautiful place,' you think to yourself bitterly.\")\r\n",
    "ravine = IslandTile(\"the Ravine\", (\"the number 42\",),(\"Crumbling Cliffs\", \"Scenic views\", \"A fallen tree\",\"The meaning of life, the universe, and everything\"), \"There is barely any warning as you emerge from the jungle and find yourself facing a massive ravine. You look precariously over the edge, but it is so deep you cannot see the bottom\")\r\n",
    "camp = IslandTile(\"your campsite\",(),(),\"You are back at your meager camp\")"
   ],
   "outputs": [],
   "metadata": {}
  }
 ],
 "metadata": {
  "kernelspec": {
   "name": "python3",
   "display_name": "Python 3.6.5 64-bit ('base': conda)"
  },
  "language_info": {
   "codemirror_mode": {
    "name": "ipython",
    "version": 3
   },
   "file_extension": ".py",
   "mimetype": "text/x-python",
   "name": "python",
   "nbconvert_exporter": "python",
   "pygments_lexer": "ipython3",
   "version": "3.6.5"
  },
  "interpreter": {
   "hash": "2501a11da06b4af3b297d00f3b3a44f3a9b21649d06de7879c05f261575933a8"
  }
 },
 "nbformat": 4,
 "nbformat_minor": 2
}